{
 "cells": [
  {
   "cell_type": "code",
   "execution_count": 1,
   "metadata": {},
   "outputs": [],
   "source": [
    "import csv\n",
    "import os\n",
    "import scipy.io\n",
    "import cPickle as pickle\n",
    "from scipy.sparse import csr_matrix\n",
    "from scipy.sparse import coo_matrix\n",
    "import itertools\n",
    "import numpy as np\n",
    "import pandas as pd\n",
    "from collections import OrderedDict"
   ]
  },
  {
   "cell_type": "code",
   "execution_count": 2,
   "metadata": {},
   "outputs": [],
   "source": [
    "data_folder = 'mm10'\n",
    "matrix_file = 'matrix.mtx'\n",
    "genes_file = 'genes.tsv'\n",
    "barcodes_file = 'barcodes.tsv'\n",
    "\n",
    "matrix_file_path = os.path.join(data_folder,matrix_file)\n",
    "genes_file_path = os.path.join(data_folder,genes_file)\n",
    "barcodes_file_path = os.path.join(data_folder,barcodes_file)\n"
   ]
  },
  {
   "cell_type": "code",
   "execution_count": 3,
   "metadata": {},
   "outputs": [],
   "source": [
    "# load matrix file\n",
    "# takes time\n",
    "mat = scipy.io.mmread(matrix_file_path)"
   ]
  },
  {
   "cell_type": "code",
   "execution_count": 4,
   "metadata": {},
   "outputs": [
    {
     "name": "stdout",
     "output_type": "stream",
     "text": [
      "  (16, 0)\t1\n",
      "  (37, 0)\t1\n",
      "  (62, 0)\t9\n",
      "  (95, 0)\t2\n",
      "  (142, 0)\t1\n",
      "  (150, 0)\t1\n",
      "  (174, 0)\t1\n",
      "  (177, 0)\t1\n",
      "  (188, 0)\t4\n",
      "  (199, 0)\t2\n",
      "  (200, 0)\t1\n",
      "  (208, 0)\t1\n",
      "  (213, 0)\t1\n",
      "  (227, 0)\t2\n",
      "  (278, 0)\t1\n",
      "  (336, 0)\t1\n",
      "  (341, 0)\t1\n",
      "  (342, 0)\t2\n",
      "  (368, 0)\t1\n",
      "  (375, 0)\t2\n",
      "  (377, 0)\t1\n",
      "  (395, 0)\t1\n",
      "  (429, 0)\t2\n",
      "  (465, 0)\t2\n",
      "  (495, 0)\t1\n",
      "  :\t:\n",
      "  (27755, 23366)\t1\n",
      "  (27758, 23366)\t1\n",
      "  (27771, 23366)\t3\n",
      "  (27792, 23366)\t2\n",
      "  (27798, 23366)\t1\n",
      "  (27804, 23366)\t1\n",
      "  (27814, 23366)\t2\n",
      "  (27840, 23366)\t1\n",
      "  (27841, 23366)\t1\n",
      "  (27851, 23366)\t2\n",
      "  (27886, 23366)\t1\n",
      "  (27891, 23366)\t1\n",
      "  (27893, 23366)\t1\n",
      "  (27896, 23366)\t1\n",
      "  (27898, 23366)\t1\n",
      "  (27903, 23366)\t2\n",
      "  (27908, 23366)\t14\n",
      "  (27909, 23366)\t2\n",
      "  (27910, 23366)\t40\n",
      "  (27911, 23366)\t14\n",
      "  (27913, 23366)\t47\n",
      "  (27914, 23366)\t42\n",
      "  (27917, 23366)\t8\n",
      "  (27918, 23366)\t1\n",
      "  (27920, 23366)\t37\n"
     ]
    }
   ],
   "source": [
    "print mat"
   ]
  },
  {
   "cell_type": "code",
   "execution_count": 5,
   "metadata": {},
   "outputs": [],
   "source": [
    "#load genes\n",
    "genes_path = os.path.join(data_folder, \"genes.tsv\")\n",
    "gene_ids = [row[0] for row in csv.reader(open(genes_path), delimiter=\"\\t\")]\n",
    "gene_names = [row[1] for row in csv.reader(open(genes_path), delimiter=\"\\t\")]"
   ]
  },
  {
   "cell_type": "code",
   "execution_count": 6,
   "metadata": {},
   "outputs": [],
   "source": [
    "#load barcodes\n",
    "barcodes_path = os.path.join(data_folder, \"barcodes.tsv\")\n",
    "barcodes = [row[0] for row in csv.reader(open(barcodes_path), delimiter=\"\\t\")]"
   ]
  },
  {
   "cell_type": "code",
   "execution_count": 9,
   "metadata": {},
   "outputs": [
    {
     "name": "stdout",
     "output_type": "stream",
     "text": [
      "972\n",
      "18118\n"
     ]
    }
   ],
   "source": [
    "#index in row\n",
    "Il10_ind = gene_names.index('Il10')\n",
    "Il10ra_ind = gene_names.index('Il10ra')\n",
    "print Il10_ind\n",
    "print Il10ra_ind"
   ]
  },
  {
   "cell_type": "code",
   "execution_count": 10,
   "metadata": {},
   "outputs": [
    {
     "data": {
      "text/plain": [
       "<1x23367 sparse matrix of type '<type 'numpy.int64'>'\n",
       "\twith 0 stored elements in Compressed Sparse Row format>"
      ]
     },
     "execution_count": 10,
     "metadata": {},
     "output_type": "execute_result"
    }
   ],
   "source": [
    "mat_csr = mat.tocsr()\n",
    "row1 = mat.row[Il10_ind]\n",
    "row2 = mat.row[Il10ra_ind]\n",
    "# print mat.data[row1,mat.row[row1]]\n",
    "# print mat.row[row2]\n",
    "mat_csr[0]"
   ]
  },
  {
   "cell_type": "code",
   "execution_count": 11,
   "metadata": {},
   "outputs": [
    {
     "name": "stdout",
     "output_type": "stream",
     "text": [
      "972\n",
      "18118\n"
     ]
    }
   ],
   "source": [
    "Il10_ind = gene_names.index('Il10')\n",
    "Il10ra_ind = gene_names.index('Il10ra')\n",
    "print Il10_ind\n",
    "print Il10ra_ind"
   ]
  },
  {
   "cell_type": "code",
   "execution_count": 12,
   "metadata": {},
   "outputs": [
    {
     "data": {
      "text/plain": [
       "set()"
      ]
     },
     "execution_count": 12,
     "metadata": {},
     "output_type": "execute_result"
    }
   ],
   "source": [
    "Il10_d = OrderedDict()\n",
    "Il10ra_d = OrderedDict()\n",
    "for i in range(mat_csr.shape[1]):\n",
    "    if mat_csr[Il10_ind,i] != 0:\n",
    "        Il10_d[i]=mat_csr[Il10_ind,i]\n",
    "        \n",
    "    if mat_csr[Il10ra_ind,i] != 0:\n",
    "        Il10ra_d[i]=mat_csr[Il10ra_ind,i]\n",
    "\n",
    "    \n",
    "#no intersection found\n",
    "set(Il10_d.keys()).intersection(Il10ra_d.keys())"
   ]
  },
  {
   "cell_type": "code",
   "execution_count": 88,
   "metadata": {},
   "outputs": [
    {
     "name": "stdout",
     "output_type": "stream",
     "text": [
      "1465\n",
      "2505\n",
      "2787\n",
      "3500\n",
      "3664\n",
      "3935\n",
      "4025\n",
      "4031\n",
      "4239\n",
      "5280\n",
      "5732\n",
      "6032\n",
      "7697\n",
      "10764\n",
      "11962\n",
      "12509\n",
      "13078\n",
      "13209\n",
      "13214\n",
      "13443\n",
      "14302\n",
      "14970\n",
      "15521\n",
      "15648\n",
      "15793\n",
      "16348\n",
      "16883\n",
      "17145\n",
      "17218\n",
      "17686\n",
      "17812\n",
      "18416\n",
      "18537\n",
      "18610\n",
      "19316\n",
      "20335\n",
      "20774\n",
      "21091\n",
      "21352\n",
      "21448\n",
      "21636\n",
      "22113\n",
      "22117\n",
      "22171\n"
     ]
    }
   ],
   "source": [
    "for i in range(mat_csr.shape[1]):\n",
    "    if mat_csr[Il10_ind,i] != 0:\n",
    "        print i\n",
    "        Il10_d[i]=mat_csr[Il10_ind,i]"
   ]
  },
  {
   "cell_type": "code",
   "execution_count": 67,
   "metadata": {},
   "outputs": [
    {
     "name": "stdout",
     "output_type": "stream",
     "text": [
      "ACTGTCCTCTGGAGCC-1 1\n",
      "ATCATCTGTAAATACG-1 1\n",
      "ATTACTCGTTCCCTTG-1 1\n",
      "CAGATCAAGCAGCCTC-1 1\n",
      "CAGCTGGAGGGAGTAA-1 1\n",
      "CATCGGGCAGGAATCG-1 1\n",
      "CATTATCAGGCAATTA-1 1\n",
      "CATTATCCACCCTATC-1 1\n",
      "CCATGTCCACACCGCA-1 1\n",
      "CGCTTCAGTTAGGGTG-1 2\n",
      "CGTGTCTTCCCACTTG-1 1\n",
      "CTAGCCTAGTGGAGTC-1 2\n",
      "GATGCTATCGGATGGA-1 1\n",
      "TCACAAGAGGCATTGG-1 1\n",
      "TGCTGCTGTCCTGCTT-1 1\n",
      "TTCGAAGGTAAGAGAG-1 1\n",
      "AAAGCAAAGATATGGT-2 1\n",
      "AACCGCGTCACTATTC-2 2\n",
      "AACCGCGTCTCATTCA-2 1\n",
      "AAGGTTCCAACACGCC-2 1\n",
      "AGAGCGATCATAACCG-2 1\n",
      "ATCATGGGTCGACTGC-2 3\n",
      "CACACTCGTAAACGCG-2 1\n",
      "CACCAGGAGAGTCGGT-2 1\n",
      "CAGATCATCCCGACTT-2 2\n",
      "CCACTACTCACCCTCA-2 1\n",
      "CGAACATAGTCTCAAC-2 1\n",
      "CGCGTTTAGTACTTGC-2 1\n",
      "CGCTTCACAGATGAGC-2 1\n",
      "CTACACCAGCGATATA-2 2\n",
      "CTAGTGAAGACTTTCG-2 1\n",
      "CTTAGGAGTGATGCCC-2 1\n",
      "GAAATGATCGCCAGCA-2 1\n",
      "GAAGCAGTCCACGCAG-2 2\n",
      "GCATGATCACGCATCG-2 1\n",
      "GTAACGTTCGTCCAGG-2 1\n",
      "GTGCATATCGGACAAG-2 1\n",
      "TAAGTGCCAAGTTCTG-2 1\n",
      "TAGACCAGTAGCACGA-2 1\n",
      "TAGTGGTGTGCTGTAT-2 1\n",
      "TCACGAAAGGTGCACA-2 1\n",
      "TGAAAGATCTTGTATC-2 1\n",
      "TGACAACAGGGCATGT-2 1\n",
      "TGACTAGCACGTAAGG-2 1\n"
     ]
    }
   ],
   "source": [
    "for k,v in Il10_d.iteritems():\n",
    "    print barcodes[k], v"
   ]
  },
  {
   "cell_type": "markdown",
   "metadata": {},
   "source": [
    "# create 3 files for each set of data\n",
    "### genes\n",
    "### barcodes\n",
    "### matrix file"
   ]
  },
  {
   "cell_type": "markdown",
   "metadata": {},
   "source": [
    "# Il10"
   ]
  },
  {
   "cell_type": "code",
   "execution_count": 13,
   "metadata": {},
   "outputs": [],
   "source": [
    "folder = 'Il10'\n",
    "if not os.path.exists(folder):\n",
    "    os.mkdir(folder)\n",
    "path = os.path.join(folder,'genes.tsv')\n",
    "with open(path,'wb') as csv_file:\n",
    "    writer = csv.writer(csv_file,delimiter=\"\\t\")\n",
    "    writer.writerow([gene_ids[Il10_ind],gene_names[Il10_ind]])"
   ]
  },
  {
   "cell_type": "code",
   "execution_count": 14,
   "metadata": {},
   "outputs": [],
   "source": [
    "folder = 'Il10'\n",
    "if not os.path.exists(folder):\n",
    "    os.mkdir(folder)\n",
    "path = os.path.join(folder,'barcodes.tsv')\n",
    "with open(path,'wb') as csv_file:\n",
    "    writer = csv.writer(csv_file,delimiter=\"\\t\")\n",
    "    for k,v in Il10_d.iteritems():\n",
    "        writer.writerow([barcodes[k]])"
   ]
  },
  {
   "cell_type": "code",
   "execution_count": 15,
   "metadata": {},
   "outputs": [],
   "source": [
    "#create sparse matrix from data\n",
    "Il10_len = len(Il10_d)\n",
    "row_coords = list(itertools.repeat(0,Il10_len))\n",
    "col_coords = Il10_d.keys()\n",
    "out = coo_matrix((Il10_d.values(),(row_coords,col_coords)))"
   ]
  },
  {
   "cell_type": "code",
   "execution_count": 16,
   "metadata": {},
   "outputs": [],
   "source": [
    "folder = 'Il10'\n",
    "if not os.path.exists(folder):\n",
    "    os.mkdir(folder)\n",
    "path = os.path.join(folder,'matrix.mtx')\n",
    "scipy.io.mmwrite(path,out)"
   ]
  },
  {
   "cell_type": "markdown",
   "metadata": {},
   "source": [
    "# Il10ra"
   ]
  },
  {
   "cell_type": "code",
   "execution_count": 114,
   "metadata": {},
   "outputs": [],
   "source": [
    "folder = 'Il10ra'\n",
    "if not os.path.exists(folder):\n",
    "    os.mkdir(folder)\n",
    "path = os.path.join(folder,'genes.tsv')\n",
    "with open(path,'wb') as csv_file:\n",
    "    writer = csv.writer(csv_file,delimiter=\"\\t\")\n",
    "    writer.writerow([gene_ids[Il10_ind],gene_names[Il10_ind]])"
   ]
  },
  {
   "cell_type": "code",
   "execution_count": 115,
   "metadata": {},
   "outputs": [],
   "source": [
    "folder = 'Il10ra'\n",
    "if not os.path.exists(folder):\n",
    "    os.mkdir(folder)\n",
    "path = os.path.join(folder,'barcodes.tsv')\n",
    "with open(path,'wb') as csv_file:\n",
    "    writer = csv.writer(csv_file,delimiter=\"\\t\")\n",
    "    for k,v in Il10_d.iteritems():\n",
    "        writer.writerow([barcodes[k]])"
   ]
  },
  {
   "cell_type": "code",
   "execution_count": 116,
   "metadata": {},
   "outputs": [],
   "source": [
    "#create sparse matrix from data\n",
    "Il10ra_len = len(Il10ra_d)\n",
    "row_coords = list(itertools.repeat(0,Il10ra_len))\n",
    "col_coords = Il10ra_d.keys()\n",
    "out = coo_matrix((Il10ra_d.values(),(row_coords,col_coords)))"
   ]
  },
  {
   "cell_type": "code",
   "execution_count": 117,
   "metadata": {},
   "outputs": [],
   "source": [
    "folder = 'Il10ra'\n",
    "if not os.path.exists(folder):\n",
    "    os.mkdir(folder)\n",
    "path = os.path.join(folder,'matrix.mtx')\n",
    "scipy.io.mmwrite(path,out)"
   ]
  },
  {
   "cell_type": "markdown",
   "metadata": {},
   "source": [
    "# everything else"
   ]
  },
  {
   "cell_type": "code",
   "execution_count": 20,
   "metadata": {},
   "outputs": [
    {
     "data": {
      "text/plain": [
       "27998"
      ]
     },
     "execution_count": 20,
     "metadata": {},
     "output_type": "execute_result"
    }
   ],
   "source": [
    "len(gene_ids)\n",
    "len(gene_names)"
   ]
  },
  {
   "cell_type": "code",
   "execution_count": 25,
   "metadata": {},
   "outputs": [
    {
     "name": "stdout",
     "output_type": "stream",
     "text": [
      "ENSMUSG00000051951\n",
      "Xkr4\n"
     ]
    }
   ],
   "source": [
    "print gene_ids[0]\n",
    "print gene_names[0]"
   ]
  },
  {
   "cell_type": "code",
   "execution_count": 26,
   "metadata": {},
   "outputs": [],
   "source": [
    "folder = 'everything else'\n",
    "if not os.path.exists(folder):\n",
    "    os.mkdir(folder)\n",
    "path = os.path.join(folder,'genes.tsv')\n",
    "with open(path,'wb') as csv_file:\n",
    "    writer = csv.writer(csv_file,delimiter=\"\\t\")\n",
    "    for i in range(len(gene_ids)):\n",
    "        if i != Il10_ind and i != Il10ra_ind:\n",
    "            writer.writerow([gene_ids[i],gene_names[i]])"
   ]
  },
  {
   "cell_type": "code",
   "execution_count": 21,
   "metadata": {},
   "outputs": [],
   "source": [
    "folder = 'everything else'\n",
    "if not os.path.exists(folder):\n",
    "    os.mkdir(folder)\n",
    "path = os.path.join(folder,'barcodes.tsv')\n",
    "with open(path,'wb') as csv_file:\n",
    "    writer = csv.writer(csv_file,delimiter=\"\\t\")\n",
    "    for i in barcodes:\n",
    "        writer.writerow([i])"
   ]
  },
  {
   "cell_type": "code",
   "execution_count": 120,
   "metadata": {},
   "outputs": [],
   "source": [
    "def delete_row_csr(mat, i):\n",
    "    if not isinstance(mat, scipy.sparse.csr_matrix):\n",
    "        raise ValueError(\"works only for CSR format -- use .tocsr() first\")\n",
    "    n = mat.indptr[i+1] - mat.indptr[i]\n",
    "    if n > 0:\n",
    "        mat.data[mat.indptr[i]:-n] = mat.data[mat.indptr[i+1]:]\n",
    "        mat.data = mat.data[:-n]\n",
    "        mat.indices[mat.indptr[i]:-n] = mat.indices[mat.indptr[i+1]:]\n",
    "        mat.indices = mat.indices[:-n]\n",
    "    mat.indptr[i:-1] = mat.indptr[i+1:]\n",
    "    mat.indptr[i:] -= n\n",
    "    mat.indptr = mat.indptr[:-1]\n",
    "    mat._shape = (mat._shape[0]-1, mat._shape[1])"
   ]
  },
  {
   "cell_type": "code",
   "execution_count": null,
   "metadata": {},
   "outputs": [],
   "source": [
    "mat.todok()\n",
    "print mat"
   ]
  }
 ],
 "metadata": {
  "kernelspec": {
   "display_name": "Python 2",
   "language": "python",
   "name": "python2"
  },
  "language_info": {
   "codemirror_mode": {
    "name": "ipython",
    "version": 2
   },
   "file_extension": ".py",
   "mimetype": "text/x-python",
   "name": "python",
   "nbconvert_exporter": "python",
   "pygments_lexer": "ipython2",
   "version": "2.7.12"
  }
 },
 "nbformat": 4,
 "nbformat_minor": 2
}
