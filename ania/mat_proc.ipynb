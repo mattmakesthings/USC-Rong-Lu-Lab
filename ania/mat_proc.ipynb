{
 "cells": [
  {
   "cell_type": "code",
   "execution_count": 1,
   "metadata": {},
   "outputs": [],
   "source": [
    "import csv\n",
    "import os\n",
    "import scipy.io\n",
    "import time\n",
    "import cPickle as pickle\n",
    "from scipy.sparse import csr_matrix\n",
    "import numpy as np\n",
    "import pandas as pd"
   ]
  },
  {
   "cell_type": "code",
   "execution_count": 3,
   "metadata": {},
   "outputs": [],
   "source": [
    "data_folder = 'mm10'\n",
    "matrix_file = 'matrix.mtx'\n",
    "genes_file = 'genes.tsv'\n",
    "barcodes_file = 'barcodes.tsv'\n",
    "\n",
    "matrix_file_path = os.path.join(data_folder,matrix_file)\n",
    "genes_file_path = os.path.join(data_folder,genes_file)\n",
    "barcodes_file_path = os.path.join(data_folder,barcodes_file)\n"
   ]
  },
  {
   "cell_type": "code",
   "execution_count": 4,
   "metadata": {},
   "outputs": [],
   "source": [
    "# load matrix file\n",
    "# takes time\n",
    "mat = scipy.io.mmread(matrix_file_path)"
   ]
  },
  {
   "cell_type": "code",
   "execution_count": 5,
   "metadata": {},
   "outputs": [
    {
     "name": "stdout",
     "output_type": "stream",
     "text": [
      "  (16, 0)\t1\n",
      "  (37, 0)\t1\n",
      "  (62, 0)\t9\n",
      "  (95, 0)\t2\n",
      "  (142, 0)\t1\n",
      "  (150, 0)\t1\n",
      "  (174, 0)\t1\n",
      "  (177, 0)\t1\n",
      "  (188, 0)\t4\n",
      "  (199, 0)\t2\n",
      "  (200, 0)\t1\n",
      "  (208, 0)\t1\n",
      "  (213, 0)\t1\n",
      "  (227, 0)\t2\n",
      "  (278, 0)\t1\n",
      "  (336, 0)\t1\n",
      "  (341, 0)\t1\n",
      "  (342, 0)\t2\n",
      "  (368, 0)\t1\n",
      "  (375, 0)\t2\n",
      "  (377, 0)\t1\n",
      "  (395, 0)\t1\n",
      "  (429, 0)\t2\n",
      "  (465, 0)\t2\n",
      "  (495, 0)\t1\n",
      "  :\t:\n",
      "  (27755, 23366)\t1\n",
      "  (27758, 23366)\t1\n",
      "  (27771, 23366)\t3\n",
      "  (27792, 23366)\t2\n",
      "  (27798, 23366)\t1\n",
      "  (27804, 23366)\t1\n",
      "  (27814, 23366)\t2\n",
      "  (27840, 23366)\t1\n",
      "  (27841, 23366)\t1\n",
      "  (27851, 23366)\t2\n",
      "  (27886, 23366)\t1\n",
      "  (27891, 23366)\t1\n",
      "  (27893, 23366)\t1\n",
      "  (27896, 23366)\t1\n",
      "  (27898, 23366)\t1\n",
      "  (27903, 23366)\t2\n",
      "  (27908, 23366)\t14\n",
      "  (27909, 23366)\t2\n",
      "  (27910, 23366)\t40\n",
      "  (27911, 23366)\t14\n",
      "  (27913, 23366)\t47\n",
      "  (27914, 23366)\t42\n",
      "  (27917, 23366)\t8\n",
      "  (27918, 23366)\t1\n",
      "  (27920, 23366)\t37\n"
     ]
    }
   ],
   "source": [
    "print mat"
   ]
  },
  {
   "cell_type": "code",
   "execution_count": 6,
   "metadata": {},
   "outputs": [],
   "source": [
    "genes_path = os.path.join(data_folder, \"genes.tsv\")\n",
    "gene_ids = [row[0] for row in csv.reader(open(genes_path), delimiter=\"\\t\")]\n",
    "gene_names = [row[1] for row in csv.reader(open(genes_path), delimiter=\"\\t\")]"
   ]
  },
  {
   "cell_type": "code",
   "execution_count": 7,
   "metadata": {},
   "outputs": [],
   "source": [
    "barcodes_path = os.path.join(data_folder, \"barcodes.tsv\")\n",
    "barcodes = [row[0] for row in csv.reader(open(barcodes_path), delimiter=\"\\t\")]"
   ]
  },
  {
   "cell_type": "code",
   "execution_count": 28,
   "metadata": {},
   "outputs": [
    {
     "name": "stdout",
     "output_type": "stream",
     "text": [
      "['ENSMUSG00000051951', 'ENSMUSG00000089699', 'ENSMUSG00000102343', 'ENSMUSG00000025900', 'ENSMUSG00000109048']\n"
     ]
    }
   ],
   "source": [
    "print gene_ids[:5]"
   ]
  },
  {
   "cell_type": "code",
   "execution_count": 29,
   "metadata": {},
   "outputs": [
    {
     "name": "stdout",
     "output_type": "stream",
     "text": [
      "['Xkr4', 'Gm1992', 'Gm37381', 'Rp1', 'Rp1']\n"
     ]
    }
   ],
   "source": [
    "print gene_names[:5]"
   ]
  },
  {
   "cell_type": "code",
   "execution_count": 30,
   "metadata": {},
   "outputs": [
    {
     "name": "stdout",
     "output_type": "stream",
     "text": [
      "['AAACCTGAGACCCACC-1', 'AAACCTGAGCAGATCG-1', 'AAACCTGAGCTAACTC-1', 'AAACCTGCAAGCGCTC-1', 'AAACCTGCACCAGCAC-1']\n"
     ]
    }
   ],
   "source": [
    "print barcodes[:5]"
   ]
  },
  {
   "cell_type": "code",
   "execution_count": 8,
   "metadata": {},
   "outputs": [
    {
     "name": "stdout",
     "output_type": "stream",
     "text": [
      "['Il10', 'Il10ra', 'Il10rb']\n"
     ]
    }
   ],
   "source": [
    "IL = []\n",
    "gene_name = 'Il10'\n",
    "for i in gene_names:\n",
    "    if gene_name in i:\n",
    "        IL.append(i)\n",
    "\n",
    "print IL"
   ]
  },
  {
   "cell_type": "code",
   "execution_count": 93,
   "metadata": {},
   "outputs": [],
   "source": [
    "mat_cp = mat.todense()\n",
    "df = pd.DataFrame(mat_cp)\n",
    "df.columns = barcodes\n",
    "df.index = gene_names\n",
    "df.insert(0,'gene ids',value = gene_ids)"
   ]
  },
  {
   "cell_type": "code",
   "execution_count": 99,
   "metadata": {},
   "outputs": [
    {
     "name": "stdout",
     "output_type": "stream",
     "text": [
      "18118\n",
      "22772\n"
     ]
    }
   ],
   "source": [
    "Il10_ind = gene_names.index('Il10ra')\n",
    "print Il10_ind\n",
    "print mat.row[Il10_ind]"
   ]
  },
  {
   "cell_type": "code",
   "execution_count": 107,
   "metadata": {},
   "outputs": [
    {
     "name": "stdout",
     "output_type": "stream",
     "text": [
      "                                  Il10\n",
      "gene ids            ENSMUSG00000016529\n",
      "ACTGTCCTCTGGAGCC-1                   1\n",
      "ATCATCTGTAAATACG-1                   1\n",
      "ATTACTCGTTCCCTTG-1                   1\n",
      "CAGATCAAGCAGCCTC-1                   1\n",
      "CAGCTGGAGGGAGTAA-1                   1\n",
      "CATCGGGCAGGAATCG-1                   1\n",
      "CATTATCAGGCAATTA-1                   1\n",
      "CATTATCCACCCTATC-1                   1\n",
      "CCATGTCCACACCGCA-1                   1\n",
      "CGCTTCAGTTAGGGTG-1                   2\n",
      "CGTGTCTTCCCACTTG-1                   1\n",
      "CTAGCCTAGTGGAGTC-1                   2\n",
      "GATGCTATCGGATGGA-1                   1\n",
      "TCACAAGAGGCATTGG-1                   1\n",
      "TGCTGCTGTCCTGCTT-1                   1\n",
      "TTCGAAGGTAAGAGAG-1                   1\n",
      "AAAGCAAAGATATGGT-2                   1\n",
      "AACCGCGTCACTATTC-2                   2\n",
      "AACCGCGTCTCATTCA-2                   1\n",
      "AAGGTTCCAACACGCC-2                   1\n",
      "AGAGCGATCATAACCG-2                   1\n",
      "ATCATGGGTCGACTGC-2                   3\n",
      "CACACTCGTAAACGCG-2                   1\n",
      "CACCAGGAGAGTCGGT-2                   1\n",
      "CAGATCATCCCGACTT-2                   2\n",
      "CCACTACTCACCCTCA-2                   1\n",
      "CGAACATAGTCTCAAC-2                   1\n",
      "CGCGTTTAGTACTTGC-2                   1\n",
      "CGCTTCACAGATGAGC-2                   1\n",
      "CTACACCAGCGATATA-2                   2\n",
      "CTAGTGAAGACTTTCG-2                   1\n",
      "CTTAGGAGTGATGCCC-2                   1\n",
      "GAAATGATCGCCAGCA-2                   1\n",
      "GAAGCAGTCCACGCAG-2                   2\n",
      "GCATGATCACGCATCG-2                   1\n",
      "GTAACGTTCGTCCAGG-2                   1\n",
      "GTGCATATCGGACAAG-2                   1\n",
      "TAAGTGCCAAGTTCTG-2                   1\n",
      "TAGACCAGTAGCACGA-2                   1\n",
      "TAGTGGTGTGCTGTAT-2                   1\n",
      "TCACGAAAGGTGCACA-2                   1\n",
      "TGAAAGATCTTGTATC-2                   1\n",
      "TGACAACAGGGCATGT-2                   1\n",
      "TGACTAGCACGTAAGG-2                   1\n"
     ]
    }
   ],
   "source": [
    "Il10_row = df.loc[df.index == 'Il10'] \n",
    "Il10_row = Il10_row.T\n",
    "Il10_row = Il10_row[Il10_row.values != 0]\n",
    "Il10_barcodes = Il10_row.T\n",
    "print Il10_barcodes.T"
   ]
  },
  {
   "cell_type": "code",
   "execution_count": 105,
   "metadata": {},
   "outputs": [
    {
     "data": {
      "text/html": [
       "<div>\n",
       "<style scoped>\n",
       "    .dataframe tbody tr th:only-of-type {\n",
       "        vertical-align: middle;\n",
       "    }\n",
       "\n",
       "    .dataframe tbody tr th {\n",
       "        vertical-align: top;\n",
       "    }\n",
       "\n",
       "    .dataframe thead th {\n",
       "        text-align: right;\n",
       "    }\n",
       "</style>\n",
       "<table border=\"1\" class=\"dataframe\">\n",
       "  <thead>\n",
       "    <tr style=\"text-align: right;\">\n",
       "      <th></th>\n",
       "      <th>gene ids</th>\n",
       "      <th>AAACCTGCATCCGTGG-1</th>\n",
       "      <th>AAAGTAGCACATTTCT-1</th>\n",
       "      <th>AAAGTAGTCGGTTCGG-1</th>\n",
       "      <th>AAATGCCTCGATGAGG-1</th>\n",
       "      <th>AACACGTGTGCAACGA-1</th>\n",
       "      <th>AACCGCGTCATTCACT-1</th>\n",
       "      <th>AACCGCGTCTGATTCT-1</th>\n",
       "      <th>AACTTTCCAAGTCTGT-1</th>\n",
       "      <th>AACTTTCCAGTAAGCG-1</th>\n",
       "      <th>...</th>\n",
       "      <th>TTGAACGTCTTGTATC-2</th>\n",
       "      <th>TTGCCGTTCAACACGT-2</th>\n",
       "      <th>TTGGAACTCTCTAAGG-2</th>\n",
       "      <th>TTGGCAACACCTCGGA-2</th>\n",
       "      <th>TTGTAGGAGCAGATCG-2</th>\n",
       "      <th>TTGTAGGGTCTGCAAT-2</th>\n",
       "      <th>TTGTAGGTCTATCGCC-2</th>\n",
       "      <th>TTTATGCAGTAGGCCA-2</th>\n",
       "      <th>TTTGGTTTCCGTCAAA-2</th>\n",
       "      <th>TTTGTCAAGCGGATCA-2</th>\n",
       "    </tr>\n",
       "  </thead>\n",
       "  <tbody>\n",
       "    <tr>\n",
       "      <th>Il10ra</th>\n",
       "      <td>ENSMUSG00000032089</td>\n",
       "      <td>1</td>\n",
       "      <td>1</td>\n",
       "      <td>1</td>\n",
       "      <td>1</td>\n",
       "      <td>1</td>\n",
       "      <td>1</td>\n",
       "      <td>1</td>\n",
       "      <td>2</td>\n",
       "      <td>2</td>\n",
       "      <td>...</td>\n",
       "      <td>1</td>\n",
       "      <td>1</td>\n",
       "      <td>1</td>\n",
       "      <td>1</td>\n",
       "      <td>1</td>\n",
       "      <td>1</td>\n",
       "      <td>1</td>\n",
       "      <td>1</td>\n",
       "      <td>1</td>\n",
       "      <td>1</td>\n",
       "    </tr>\n",
       "  </tbody>\n",
       "</table>\n",
       "<p>1 rows × 391 columns</p>\n",
       "</div>"
      ],
      "text/plain": [
       "                  gene ids AAACCTGCATCCGTGG-1 AAAGTAGCACATTTCT-1  \\\n",
       "Il10ra  ENSMUSG00000032089                  1                  1   \n",
       "\n",
       "       AAAGTAGTCGGTTCGG-1 AAATGCCTCGATGAGG-1 AACACGTGTGCAACGA-1  \\\n",
       "Il10ra                  1                  1                  1   \n",
       "\n",
       "       AACCGCGTCATTCACT-1 AACCGCGTCTGATTCT-1 AACTTTCCAAGTCTGT-1  \\\n",
       "Il10ra                  1                  1                  2   \n",
       "\n",
       "       AACTTTCCAGTAAGCG-1        ...         TTGAACGTCTTGTATC-2  \\\n",
       "Il10ra                  2        ...                          1   \n",
       "\n",
       "       TTGCCGTTCAACACGT-2 TTGGAACTCTCTAAGG-2 TTGGCAACACCTCGGA-2  \\\n",
       "Il10ra                  1                  1                  1   \n",
       "\n",
       "       TTGTAGGAGCAGATCG-2 TTGTAGGGTCTGCAAT-2 TTGTAGGTCTATCGCC-2  \\\n",
       "Il10ra                  1                  1                  1   \n",
       "\n",
       "       TTTATGCAGTAGGCCA-2 TTTGGTTTCCGTCAAA-2 TTTGTCAAGCGGATCA-2  \n",
       "Il10ra                  1                  1                  1  \n",
       "\n",
       "[1 rows x 391 columns]"
      ]
     },
     "execution_count": 105,
     "metadata": {},
     "output_type": "execute_result"
    }
   ],
   "source": [
    "Il10ra_row = df.loc[df.index == 'Il10ra'] \n",
    "Il10ra_row = Il10ra_row.T\n",
    "Il10ra_row = Il10ra_row[Il10ra_row.values != 0]\n",
    "Il10ra_barcodes = Il10ra_row.T\n",
    "Il10ra_barcodes"
   ]
  },
  {
   "cell_type": "code",
   "execution_count": 108,
   "metadata": {},
   "outputs": [
    {
     "data": {
      "text/plain": [
       "[]"
      ]
     },
     "execution_count": 108,
     "metadata": {},
     "output_type": "execute_result"
    }
   ],
   "source": [
    "overlap = list(set(Il10ra_barcodes).intersection(Il10_barcodes))\n",
    "overlap.remove('gene ids')\n",
    "df_overlap = df[overlap].loc[['Il10','Il10ra']]\n",
    "# df_overlap = df_overlap[df_overlap.values != 0]\n",
    "overlap"
   ]
  }
 ],
 "metadata": {
  "kernelspec": {
   "display_name": "Python 2",
   "language": "python",
   "name": "python2"
  },
  "language_info": {
   "codemirror_mode": {
    "name": "ipython",
    "version": 2
   },
   "file_extension": ".py",
   "mimetype": "text/x-python",
   "name": "python",
   "nbconvert_exporter": "python",
   "pygments_lexer": "ipython2",
   "version": "2.7.12"
  }
 },
 "nbformat": 4,
 "nbformat_minor": 2
}
